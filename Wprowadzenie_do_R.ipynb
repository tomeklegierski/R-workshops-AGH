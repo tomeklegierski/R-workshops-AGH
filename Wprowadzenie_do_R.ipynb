{
  "nbformat": 4,
  "nbformat_minor": 0,
  "metadata": {
    "colab": {
      "provenance": [],
      "authorship_tag": "ABX9TyNgw8MdukLeRe9HRdtXFxpB",
      "include_colab_link": true
    },
    "kernelspec": {
      "name": "ir",
      "display_name": "R"
    },
    "language_info": {
      "name": "R"
    }
  },
  "cells": [
    {
      "cell_type": "markdown",
      "metadata": {
        "id": "view-in-github",
        "colab_type": "text"
      },
      "source": [
        "<a href=\"https://colab.research.google.com/github/tomeklegierski/R-workshops-with-UBS/blob/main/Wprowadzenie_do_R.ipynb\" target=\"_parent\"><img src=\"https://colab.research.google.com/assets/colab-badge.svg\" alt=\"Open In Colab\"/></a>"
      ]
    },
    {
      "cell_type": "markdown",
      "source": [
        "# Wprowadzenie do R\n",
        "08/05/2023"
      ],
      "metadata": {
        "id": "YFGiKvsx-d-I"
      }
    },
    {
      "cell_type": "markdown",
      "source": [
        "## Cel warsztatu\n",
        "\n",
        "Celem jest przedstawienie podstawowych elementów programowania w R, co pomoże wam w przyszłości wykonywać i automatyzować transofrmację danych oraz ich wizualizację."
      ],
      "metadata": {
        "id": "wbCGuYqIBt3D"
      }
    },
    {
      "cell_type": "markdown",
      "source": [
        "## Agenda zajęć\n",
        "\n",
        "1. Proste struktury danych w R.\n",
        "2. Podstawowe operacje.\n",
        "3. Wprowadzenie do pakietu dplyr\n",
        "4. Wprowadzenie do pakietu ggplot2\n",
        "\n",
        "Ważna kwestia, na zajęciach będziemy operowali na małych zbiorach danych, do których pakiet dplyr wydaje się być najlepszym rozwiązaniem. Jednak nie będzie sprawdzał się tak dobrze na **big data**. Do tego dużo lepszy będzie pakiet data.table, o którym możecie poczytać tu: https://cran.r-project.org/web/packages/data.table/vignettes/."
      ],
      "metadata": {
        "id": "p5qid4NaCspq"
      }
    },
    {
      "cell_type": "markdown",
      "source": [
        "## Struktury danych\n",
        "\n",
        "Na warsztatach poznamy 4 podstawowe struktury danych w R:\n",
        "\n",
        "\n",
        "*   Vector\n",
        "*   List\n",
        "*   Matrix\n",
        "*   Data Frame"
      ],
      "metadata": {
        "id": "DfnGsjlyJrvl"
      }
    },
    {
      "cell_type": "markdown",
      "source": [
        "### Vector \n",
        "\n",
        "Wektor jest strukturą homogeniczną, co znaczy, że wszystkie jego elementy muszą mieć ten sam typ.\n",
        "\n",
        "Wyróżniamy 4 podstawowe typy wektorów:\n",
        "\n",
        "*   character\n",
        "*   numeric\n",
        "*   integer\n",
        "*   logical\n",
        "\n"
      ],
      "metadata": {
        "id": "3Qm3sR_rK-D1"
      }
    },
    {
      "cell_type": "code",
      "execution_count": null,
      "metadata": {
        "id": "gU2K2W6E2Pps"
      },
      "outputs": [],
      "source": [
        "# Zmienna to wektor z jednym elementem\n",
        "x_1 <- 2\n",
        "x_2 = 'R jest super!'"
      ]
    },
    {
      "cell_type": "code",
      "source": [
        "vector_character <- c(\"R jest super!\")\n",
        "vector_numeric <- c(exp(1), pi, 2.5)\n",
        "vector_intiger <- c(-2L, -1L, 0L, 1L, 2L)\n",
        "vector_logic <- c(FALSE, TRUE, F, T)"
      ],
      "metadata": {
        "id": "kbRqBUpI_u3N"
      },
      "execution_count": null,
      "outputs": []
    },
    {
      "cell_type": "markdown",
      "source": [
        "### List\n",
        "Lista jest strukturą heterogeniczną, czyli jej elementy mogą mieć różne typy."
      ],
      "metadata": {
        "id": "dp5poPHiT9nD"
      }
    },
    {
      "cell_type": "code",
      "source": [
        "list_1 <- list(\"R jest super!\", exp(1), -2L, TRUE)\n",
        "\n",
        "list_2 <- list(vector_character, \n",
        "               vector_numeric, \n",
        "               vector_intiger, \n",
        "               vector_logic)"
      ],
      "metadata": {
        "id": "7cqLHj13T7BC"
      },
      "execution_count": null,
      "outputs": []
    },
    {
      "cell_type": "markdown",
      "source": [
        "### Matrix\n",
        "Macierz jest dwu-wymiarową strukturą, która tak samo jak wektor mysu być homogeniczna."
      ],
      "metadata": {
        "id": "ozneLb7WZTnH"
      }
    },
    {
      "cell_type": "code",
      "source": [
        "matrix_1 <- matrix(1:32, nrow = 8, ncol = 4)"
      ],
      "metadata": {
        "id": "d07Jvp8NZSec"
      },
      "execution_count": null,
      "outputs": []
    },
    {
      "cell_type": "markdown",
      "source": [
        "### Data frame\n",
        "Data frame jest listą składającą się z jednawych co do wielkości wektorów. Wektory te nie muszą być tego samego typu."
      ],
      "metadata": {
        "id": "VTFj8s7yaI6_"
      }
    },
    {
      "cell_type": "code",
      "source": [
        "# Tworzenie ramki danych\n",
        "df_movies <- data.frame(\n",
        "  title = c(\"Incepcja\", \"Avengers: Koniec gry\", \"Gladiator\", \"Ojciec chrzestny\", \"Matrix\"),\n",
        "  year = c(2010, 2019, 2000, 1972, 1999),\n",
        "  rating = c(8.8, 8.4, 8.5, 9.2, 8.7),\n",
        "  genre = c(\"sci-fi\", \"akcja\", \"dramat\", \"gangsterski\", \"sci-fi\"),\n",
        "  director = c(\"Christopher Nolan\", \"Anthony Russo\", \"Ridley Scott\", \"Francis Ford Coppola\", \"Lana i Lilly Wachowski\"),\n",
        "  is_21st_century  = c(T, T, F, F, F),\n",
        "  stringsAsFactors = FALSE\n",
        ")\n",
        "\n",
        "# Wyświetlanie ramki danych\n",
        "df_movies"
      ],
      "metadata": {
        "colab": {
          "base_uri": "https://localhost:8080/",
          "height": 255
        },
        "id": "fLLULZWRaIjz",
        "outputId": "f6b0f03d-481f-426f-ed0f-a1f76a1184b7"
      },
      "execution_count": null,
      "outputs": [
        {
          "output_type": "display_data",
          "data": {
            "text/html": [
              "<table class=\"dataframe\">\n",
              "<caption>A data.frame: 5 × 6</caption>\n",
              "<thead>\n",
              "\t<tr><th scope=col>title</th><th scope=col>year</th><th scope=col>rating</th><th scope=col>genre</th><th scope=col>director</th><th scope=col>is_21st_century</th></tr>\n",
              "\t<tr><th scope=col>&lt;chr&gt;</th><th scope=col>&lt;dbl&gt;</th><th scope=col>&lt;dbl&gt;</th><th scope=col>&lt;chr&gt;</th><th scope=col>&lt;chr&gt;</th><th scope=col>&lt;lgl&gt;</th></tr>\n",
              "</thead>\n",
              "<tbody>\n",
              "\t<tr><td>Incepcja            </td><td>2010</td><td>8.8</td><td>sci-fi     </td><td>Christopher Nolan     </td><td> TRUE</td></tr>\n",
              "\t<tr><td>Avengers: Koniec gry</td><td>2019</td><td>8.4</td><td>akcja      </td><td>Anthony Russo         </td><td> TRUE</td></tr>\n",
              "\t<tr><td>Gladiator           </td><td>2000</td><td>8.5</td><td>dramat     </td><td>Ridley Scott          </td><td>FALSE</td></tr>\n",
              "\t<tr><td>Ojciec chrzestny    </td><td>1972</td><td>9.2</td><td>gangsterski</td><td>Francis Ford Coppola  </td><td>FALSE</td></tr>\n",
              "\t<tr><td>Matrix              </td><td>1999</td><td>8.7</td><td>sci-fi     </td><td>Lana i Lilly Wachowski</td><td>FALSE</td></tr>\n",
              "</tbody>\n",
              "</table>\n"
            ],
            "text/markdown": "\nA data.frame: 5 × 6\n\n| title &lt;chr&gt; | year &lt;dbl&gt; | rating &lt;dbl&gt; | genre &lt;chr&gt; | director &lt;chr&gt; | is_21st_century &lt;lgl&gt; |\n|---|---|---|---|---|---|\n| Incepcja             | 2010 | 8.8 | sci-fi      | Christopher Nolan      |  TRUE |\n| Avengers: Koniec gry | 2019 | 8.4 | akcja       | Anthony Russo          |  TRUE |\n| Gladiator            | 2000 | 8.5 | dramat      | Ridley Scott           | FALSE |\n| Ojciec chrzestny     | 1972 | 9.2 | gangsterski | Francis Ford Coppola   | FALSE |\n| Matrix               | 1999 | 8.7 | sci-fi      | Lana i Lilly Wachowski | FALSE |\n\n",
            "text/latex": "A data.frame: 5 × 6\n\\begin{tabular}{llllll}\n title & year & rating & genre & director & is\\_21st\\_century\\\\\n <chr> & <dbl> & <dbl> & <chr> & <chr> & <lgl>\\\\\n\\hline\n\t Incepcja             & 2010 & 8.8 & sci-fi      & Christopher Nolan      &  TRUE\\\\\n\t Avengers: Koniec gry & 2019 & 8.4 & akcja       & Anthony Russo          &  TRUE\\\\\n\t Gladiator            & 2000 & 8.5 & dramat      & Ridley Scott           & FALSE\\\\\n\t Ojciec chrzestny     & 1972 & 9.2 & gangsterski & Francis Ford Coppola   & FALSE\\\\\n\t Matrix               & 1999 & 8.7 & sci-fi      & Lana i Lilly Wachowski & FALSE\\\\\n\\end{tabular}\n",
            "text/plain": [
              "  title                year rating genre       director              \n",
              "1 Incepcja             2010 8.8    sci-fi      Christopher Nolan     \n",
              "2 Avengers: Koniec gry 2019 8.4    akcja       Anthony Russo         \n",
              "3 Gladiator            2000 8.5    dramat      Ridley Scott          \n",
              "4 Ojciec chrzestny     1972 9.2    gangsterski Francis Ford Coppola  \n",
              "5 Matrix               1999 8.7    sci-fi      Lana i Lilly Wachowski\n",
              "  is_21st_century\n",
              "1  TRUE          \n",
              "2  TRUE          \n",
              "3 FALSE          \n",
              "4 FALSE          \n",
              "5 FALSE          "
            ]
          },
          "metadata": {}
        }
      ]
    },
    {
      "cell_type": "code",
      "source": [
        "print(df_movies)"
      ],
      "metadata": {
        "id": "Lgdw91EDc1zx"
      },
      "execution_count": null,
      "outputs": []
    },
    {
      "cell_type": "code",
      "source": [
        "# nazwy kolumn\n",
        "colnames(df_movies) # names(df_movies)"
      ],
      "metadata": {
        "id": "teH3noYYhF5t"
      },
      "execution_count": null,
      "outputs": []
    },
    {
      "cell_type": "code",
      "source": [
        "# liczba wierszy\n",
        "nrow(df_movies)"
      ],
      "metadata": {
        "id": "BbT8yuvDhFyx"
      },
      "execution_count": null,
      "outputs": []
    },
    {
      "cell_type": "code",
      "source": [
        "# liczba kolumn \n",
        "ncol(df_movies)"
      ],
      "metadata": {
        "id": "VvqvA38thFsr"
      },
      "execution_count": null,
      "outputs": []
    },
    {
      "cell_type": "code",
      "source": [
        "# wymiar data frame\n",
        "dim(df_movies)"
      ],
      "metadata": {
        "id": "dK5I2SndhFjk"
      },
      "execution_count": null,
      "outputs": []
    },
    {
      "cell_type": "code",
      "source": [
        "# odwołania do obiektów\n",
        "df_movies[1]"
      ],
      "metadata": {
        "id": "nd3t7DfMcfLP"
      },
      "execution_count": null,
      "outputs": []
    },
    {
      "cell_type": "markdown",
      "source": [
        "## Podstawowe operacje\n",
        "\n",
        "Na warsztatach poznamy:\n",
        "\n",
        "*   Instrukcje warunkowe (if)\n",
        "*   Pętle (for)\n",
        "*   Budowanie funkcji (function)"
      ],
      "metadata": {
        "id": "AKGS084zb-11"
      }
    },
    {
      "cell_type": "markdown",
      "source": [
        "### If\n"
      ],
      "metadata": {
        "id": "7TDuUiRJiZD8"
      }
    },
    {
      "cell_type": "code",
      "source": [
        "x = 3\n",
        "if (x > 3) {\n",
        "  print(x)\n",
        "}"
      ],
      "metadata": {
        "colab": {
          "base_uri": "https://localhost:8080/"
        },
        "id": "uQHRTZiBiX_M",
        "outputId": "c92f7a6c-61e4-4530-fa10-47df7becc937"
      },
      "execution_count": null,
      "outputs": [
        {
          "output_type": "stream",
          "name": "stdout",
          "text": [
            "[1] 4\n"
          ]
        }
      ]
    },
    {
      "cell_type": "code",
      "source": [
        "x = 3\n",
        "if (x > 3) \n",
        "  print(x)\n"
      ],
      "metadata": {
        "colab": {
          "base_uri": "https://localhost:8080/"
        },
        "id": "T4hCqz7PisL4",
        "outputId": "1b219d5b-c02b-4ae7-95a9-5024fe633135"
      },
      "execution_count": null,
      "outputs": [
        {
          "output_type": "stream",
          "name": "stdout",
          "text": [
            "[1] 4\n"
          ]
        }
      ]
    },
    {
      "cell_type": "code",
      "source": [
        "x = 'lol'\n",
        "if (x > 3) {\n",
        "  print('x jest większe od 3')\n",
        "} else if (x <= 3) {\n",
        "  print('x jest mniejsze bądź równe 3')\n",
        "} else {\n",
        "  print('x to nie liczba')\n",
        "}\n"
      ],
      "metadata": {
        "colab": {
          "base_uri": "https://localhost:8080/"
        },
        "id": "L_FLz9oNi6C4",
        "outputId": "63378f2f-c1da-4aa8-af3c-6df7c514e79b"
      },
      "execution_count": null,
      "outputs": [
        {
          "output_type": "stream",
          "name": "stdout",
          "text": [
            "[1] \"x jest większe od 3\"\n"
          ]
        }
      ]
    },
    {
      "cell_type": "markdown",
      "source": [
        "### For"
      ],
      "metadata": {
        "id": "TkZOh2nTjc_X"
      }
    },
    {
      "cell_type": "code",
      "source": [
        "for (i in 1:10) {\n",
        "  print(i)\n",
        "}"
      ],
      "metadata": {
        "id": "1B97RbhIjgAR"
      },
      "execution_count": null,
      "outputs": []
    },
    {
      "cell_type": "code",
      "source": [
        "range <- 1:5 # deklarowanie zasięgu funkcji (wektor 1, 2, 3, 4, 5)\n",
        "for (i in range) {\n",
        "  if(i == 4) # warunek i jest równe 4\n",
        "    next     # przejdź dalej w pętli\n",
        "\n",
        "  print(i)   # wypisz i\n",
        "}"
      ],
      "metadata": {
        "id": "rJELMF3jjonS"
      },
      "execution_count": null,
      "outputs": []
    },
    {
      "cell_type": "markdown",
      "source": [
        "### Funkcje"
      ],
      "metadata": {
        "id": "4PvQWEL8klTO"
      }
    },
    {
      "cell_type": "code",
      "source": [
        "# deklarowanie funkcji\n",
        "oblicz_pole_kola <- function(promien) {\n",
        "  pole = pi * promien^2\n",
        "  return(pole)\n",
        "}"
      ],
      "metadata": {
        "id": "d7Tpgx1skNhu"
      },
      "execution_count": null,
      "outputs": []
    },
    {
      "cell_type": "code",
      "source": [
        "oblicz_pole_kola(2)"
      ],
      "metadata": {
        "colab": {
          "base_uri": "https://localhost:8080/",
          "height": 34
        },
        "id": "KjyeZ8qAlRbZ",
        "outputId": "d2da0d8a-be79-4fa9-9363-b75693011dbe"
      },
      "execution_count": null,
      "outputs": [
        {
          "output_type": "display_data",
          "data": {
            "text/html": [
              "12.5663706143592"
            ],
            "text/markdown": "12.5663706143592",
            "text/latex": "12.5663706143592",
            "text/plain": [
              "[1] 12.56637"
            ]
          },
          "metadata": {}
        }
      ]
    },
    {
      "cell_type": "markdown",
      "source": [
        "## Wprowadzenie do pakietu dplyr\n",
        "\n",
        "**dplyr** to jeden z najpopularniejszych, jak nie najpopularniejszy prakiet do preprocesingu danych jaki istnieje w R. Jest częścią grupy pakietów o nazwie Tidyverse: https://www.tidyverse.org/\n",
        "\n",
        "W dplyr można znaleźć wielką piątkę niesamowicie użytecznych funkcji:\n",
        "1. select()\n",
        "2. filter()\n",
        "3. mutate()\n",
        "4. summarise()\n",
        "5. arrange()\n",
        "\n",
        "Wszystkie działają razem z funkcją group_by(), która funkcjonalnością przewyższa nawet pięć wymienionych wyżej. Taka **nad**-funkcja."
      ],
      "metadata": {
        "id": "KyeF7a81lgBK"
      }
    },
    {
      "cell_type": "code",
      "source": [
        "# instalowanie i ładowanie pakietów\n",
        "# install.packages(c('dplyr', 'data.table'))\n",
        "library(dplyr)\n",
        "library(data.table) # będzie nam potrzebna do ściągnięcia danych (fukncja fread())"
      ],
      "metadata": {
        "id": "nc52TeA-n3Qq"
      },
      "execution_count": null,
      "outputs": []
    },
    {
      "cell_type": "code",
      "source": [
        "df_data_science_salary <- fread(\"https://raw.githubusercontent.com/tomeklegierski/R-workshops-with-UBS/main/_data/ds-salaries.csv\")"
      ],
      "metadata": {
        "id": "H09wsNlKomy9"
      },
      "execution_count": 96,
      "outputs": []
    },
    {
      "cell_type": "code",
      "source": [
        "head(df_data_science_salary)"
      ],
      "metadata": {
        "id": "RmXBx5yWpTah"
      },
      "execution_count": null,
      "outputs": []
    },
    {
      "cell_type": "markdown",
      "source": [
        "### %>% (pipe operator)"
      ],
      "metadata": {
        "id": "lQtPNPJzqyOn"
      }
    },
    {
      "cell_type": "code",
      "source": [
        "df_data_science_salary %>% head()"
      ],
      "metadata": {
        "id": "R2nAJ1axqxxW"
      },
      "execution_count": null,
      "outputs": []
    },
    {
      "cell_type": "code",
      "source": [
        "df_data_science_salary %>% \n",
        "  head() %>% \n",
        "  dim()"
      ],
      "metadata": {
        "id": "OxK-eAx7r1qh"
      },
      "execution_count": null,
      "outputs": []
    },
    {
      "cell_type": "code",
      "source": [
        "df_data_science_salary$experience_level %>% unique"
      ],
      "metadata": {
        "id": "Aau1oIw8uUTA"
      },
      "execution_count": null,
      "outputs": []
    },
    {
      "cell_type": "code",
      "source": [
        "df_data_science_salary$employment_type %>% unique"
      ],
      "metadata": {
        "id": "X8S5dESdubo2"
      },
      "execution_count": null,
      "outputs": []
    },
    {
      "cell_type": "markdown",
      "source": [
        "### select()\n",
        "Wybieranie kolumn"
      ],
      "metadata": {
        "id": "BMM6kF0CsA6T"
      }
    },
    {
      "cell_type": "code",
      "source": [
        "df_data_science_salary %>% \n",
        "  select(experience_level, job_title, salary_in_usd, company_size) %>% \n",
        "  head() # wybiera tylko potrzebne kolumny"
      ],
      "metadata": {
        "id": "aPHs_khTsAln"
      },
      "execution_count": null,
      "outputs": []
    },
    {
      "cell_type": "code",
      "source": [
        "df_data_science_salary %>% \n",
        "  select(!c(work_year, company_size)) %>% # ! przed wektorem wyrzuca kolumny które nie są potrzebne\n",
        "  head() "
      ],
      "metadata": {
        "id": "PFknNYdvsEek"
      },
      "execution_count": null,
      "outputs": []
    },
    {
      "cell_type": "markdown",
      "source": [
        "### filter()\n",
        "Filtrowanie datasetu"
      ],
      "metadata": {
        "id": "mHexcHQDtCjk"
      }
    },
    {
      "cell_type": "code",
      "source": [
        "df_data_science_salary %>% \n",
        "  filter(experience_level == 'EN') %>%\n",
        "  head()"
      ],
      "metadata": {
        "id": "fJpvqores_ej"
      },
      "execution_count": null,
      "outputs": []
    },
    {
      "cell_type": "code",
      "source": [
        "df_data_science_salary %>% \n",
        "  filter(salary_in_usd > 100000) %>% # filter numeryczny\n",
        "  head()"
      ],
      "metadata": {
        "id": "Km-BSGExtgM_"
      },
      "execution_count": null,
      "outputs": []
    },
    {
      "cell_type": "code",
      "source": [
        "df_data_science_salary %>% \n",
        "  filter(employment_type %in% c('CT', 'FL')) %>% \n",
        "  head()"
      ],
      "metadata": {
        "id": "_eTpHbaetoyX"
      },
      "execution_count": null,
      "outputs": []
    },
    {
      "cell_type": "code",
      "source": [
        "df_data_science_salary %>% \n",
        "  filter(employee_residence != company_location) %>% \n",
        "  head()"
      ],
      "metadata": {
        "id": "KP-pR9EX0bmH"
      },
      "execution_count": null,
      "outputs": []
    },
    {
      "cell_type": "markdown",
      "source": [
        "### mutate()\n",
        "Dodawanie kolumn"
      ],
      "metadata": {
        "id": "xFMZPjV1tIJ7"
      }
    },
    {
      "cell_type": "code",
      "source": [
        "df_data_science_salary %>% \n",
        "  mutate(FX_XYZUSD = salary / salary_in_usd) %>% \n",
        "  head()"
      ],
      "metadata": {
        "id": "jetuHyvstIeW"
      },
      "execution_count": null,
      "outputs": []
    },
    {
      "cell_type": "markdown",
      "source": [
        "### arrange()\n",
        "Sortowanie"
      ],
      "metadata": {
        "id": "kvQxsMCPtKgR"
      }
    },
    {
      "cell_type": "code",
      "source": [
        "df_data_science_salary %>% \n",
        "  arrange(salary_in_usd) %>% \n",
        "  head()"
      ],
      "metadata": {
        "id": "jYG-CJjItMcb"
      },
      "execution_count": null,
      "outputs": []
    },
    {
      "cell_type": "code",
      "source": [
        "df_data_science_salary %>% \n",
        "  arrange(desc(salary_in_usd)) %>% # desc sortuje od największej do najmniejszej\n",
        "  head()"
      ],
      "metadata": {
        "id": "FuovvLrvvwZU"
      },
      "execution_count": null,
      "outputs": []
    },
    {
      "cell_type": "markdown",
      "source": [
        "### summarise()\n",
        "Podsumowywanie"
      ],
      "metadata": {
        "id": "cvh1qoMgtNRU"
      }
    },
    {
      "cell_type": "code",
      "source": [
        "df_data_science_salary %>% \n",
        "  summarise(mean_salary_ds = mean(salary_in_usd),\n",
        "            median_salary_ds = median(salary_in_usd))"
      ],
      "metadata": {
        "id": "IONG3TeOtPsY"
      },
      "execution_count": null,
      "outputs": []
    },
    {
      "cell_type": "markdown",
      "source": [
        "### group_by()"
      ],
      "metadata": {
        "id": "gqF0oir0tQSq"
      }
    },
    {
      "cell_type": "code",
      "source": [
        "df_data_science_salary %>% \n",
        "  group_by(experience_level) %>%  # dzieli dataframe na grupy\n",
        "  summarise(mean_salary_ds = mean(salary_in_usd),\n",
        "            median_salary_ds = median(salary_in_usd)) %>% # podsumowuje te grupy\n",
        "  arrange(desc(mean_salary_ds))"
      ],
      "metadata": {
        "id": "J6Ejy8rAxDNB"
      },
      "execution_count": null,
      "outputs": []
    },
    {
      "cell_type": "code",
      "source": [
        "df_data_science_salary %>% \n",
        "  group_by(work_year, salary_currency) %>%\n",
        "  summarise(mean_FX = mean(salary/salary_in_usd)) %>%\n",
        "  arrange(salary_currency)"
      ],
      "metadata": {
        "id": "R7QPxQP6xzrf"
      },
      "execution_count": null,
      "outputs": []
    },
    {
      "cell_type": "code",
      "source": [
        "df_data_science_salary %>% \n",
        "  group_by(work_year, salary_currency) %>%\n",
        "  mutate(mean_FX = mean(salary/salary_in_usd)) %>%\n",
        "  arrange(salary_currency)"
      ],
      "metadata": {
        "id": "Ze2NlMcCyXni"
      },
      "execution_count": null,
      "outputs": []
    },
    {
      "cell_type": "code",
      "source": [
        "df_data_science_salary %>% \n",
        "  group_by(work_year, salary_currency) %>%\n",
        "  mutate(mean_FX = mean(salary/salary_in_usd)) %>%\n",
        "  arrange(salary_currency)"
      ],
      "metadata": {
        "id": "S7FsG2Eg0WOj"
      },
      "execution_count": null,
      "outputs": []
    },
    {
      "cell_type": "markdown",
      "source": [
        "## Joins\n",
        "Łączenie tabel za pomocą klucza"
      ],
      "metadata": {
        "id": "2MWWHW7D0DIJ"
      }
    },
    {
      "cell_type": "code",
      "source": [
        "df_country_mapping <- fread(\"https://raw.githubusercontent.com/tomeklegierski/R-workshops-with-UBS/main/_data/country-code-map.csv\")"
      ],
      "metadata": {
        "id": "Y1WHc-0X0Mc9"
      },
      "execution_count": 145,
      "outputs": []
    },
    {
      "cell_type": "code",
      "source": [
        "df_country_mapping_clean <- df_country_mapping %>%\n",
        "  select(name, `alpha-2`) %>%\n",
        "  rename(country_code = `alpha-2`)"
      ],
      "metadata": {
        "id": "UWApUA370ow7"
      },
      "execution_count": 149,
      "outputs": []
    },
    {
      "cell_type": "code",
      "source": [
        "df_data_science_salary_country_name <- df_data_science_salary %>% \n",
        "  left_join(df_country_mapping_clean, by = c(\"employee_residence\" = \"country_code\"))"
      ],
      "metadata": {
        "id": "UmPurvnc1FWH"
      },
      "execution_count": 155,
      "outputs": []
    },
    {
      "cell_type": "code",
      "source": [
        "df_data_science_country_salary <- df_data_science_salary_country_name %>%\n",
        "  group_by(name) %>%\n",
        "  summarise(mean_salary_in_usd = mean(salary_in_usd)) %>%\n",
        "  arrange(desc(mean_salary_in_usd))\n",
        "\n",
        "\n",
        "df_data_science_country_salary"
      ],
      "metadata": {
        "id": "u3gGMSJB1WHH"
      },
      "execution_count": null,
      "outputs": []
    },
    {
      "cell_type": "markdown",
      "source": [
        "## ggplot2\n",
        "\n",
        "Tu już nie mam żadnych wątpliwości, **ggplot** jest najczęściej używanym pakietem do wizualizacji danych. Można w nim zrobić niemal wszystko, jest intuicyjny, a wykresy przez niego generowane są bardzo ładne.\n",
        "\n",
        "Więcej o tym pakiecie można poczytać tu: https://ggplot2.tidyverse.org/"
      ],
      "metadata": {
        "id": "loUWPTPT2Vt7"
      }
    },
    {
      "cell_type": "code",
      "source": [
        "df_tourism_recipts <- fread(\"https://raw.githubusercontent.com/tomeklegierski/R-workshops-with-UBS/main/_data/tourism-recipts.csv\")"
      ],
      "metadata": {
        "id": "rV_D04EP23gb"
      },
      "execution_count": 158,
      "outputs": []
    },
    {
      "cell_type": "code",
      "source": [
        "df_tourism_recipts %>%\n",
        "  filter(is.na(`value_$`))"
      ],
      "metadata": {
        "id": "kuNybIN23FpA"
      },
      "execution_count": null,
      "outputs": []
    },
    {
      "cell_type": "code",
      "source": [
        "df_tourism_recipts_clean <- df_tourism_recipts %>%\n",
        "  filter(!is.na(`value_$`)) %>%\n",
        "  mutate(`value_$` = `value_$` / 1e6)"
      ],
      "metadata": {
        "id": "FhmXnjze3lwU"
      },
      "execution_count": 164,
      "outputs": []
    },
    {
      "cell_type": "code",
      "source": [
        "df_tourism_recipts_clean_USA <- df_tourism_recipts_clean %>% \n",
        "  filter(code == 'USA')"
      ],
      "metadata": {
        "id": "jSVO7SCd39xJ"
      },
      "execution_count": 173,
      "outputs": []
    },
    {
      "cell_type": "code",
      "source": [
        "ggplot(data = df_tourism_recipts_clean_USA, aes(x = year, y = `value_$`)) + geom_line()"
      ],
      "metadata": {
        "id": "42PfiaY24KZi"
      },
      "execution_count": null,
      "outputs": []
    },
    {
      "cell_type": "code",
      "source": [
        "best_6 <- df_tourism_recipts_clean %>%\n",
        "  group_by(name) %>%\n",
        "  summarise(mean_value = mean(`value_$`)) %>%\n",
        "  arrange(desc(mean_value)) %>%\n",
        "  filter(row_number() <= 6) %>% # bierze pierwsze 6 wierszy\n",
        "  pull(name) # transformuje kolumne name na wektor"
      ],
      "metadata": {
        "id": "lG_4-UQX45k2"
      },
      "execution_count": 197,
      "outputs": []
    },
    {
      "cell_type": "code",
      "source": [
        "best_6"
      ],
      "metadata": {
        "id": "qwHYibL55vuD"
      },
      "execution_count": null,
      "outputs": []
    },
    {
      "cell_type": "code",
      "source": [
        "ggplot(data = df_tourism_recipts_clean %>% filter(name %in% best_6), aes(x = year, y = `value_$`, colour = name)) + geom_line()"
      ],
      "metadata": {
        "id": "laIBgcfU4ohR"
      },
      "execution_count": null,
      "outputs": []
    },
    {
      "cell_type": "code",
      "source": [
        "ggplot(df_tourism_recipts_clean %>% filter(name %in% best_6), \n",
        "  aes(x = year, y = `value_$`))+\n",
        "  geom_line() +\n",
        "  facet_wrap(~name,  ncol=3, nrow = 2)"
      ],
      "metadata": {
        "id": "bHzTNy4E7O6Q"
      },
      "execution_count": null,
      "outputs": []
    },
    {
      "cell_type": "code",
      "source": [
        "ggplot(df_data_science_salary %>% \n",
        "          group_by( employment_type) %>%\n",
        "          summarise(value = mean(salary_in_usd)), \n",
        "aes(x = employment_type, y = value))+\n",
        "  geom_bar(stat = 'identity', fill = 'forest green') +\n",
        "  ggtitle('Salary for employment types')"
      ],
      "metadata": {
        "id": "ZN7hPMfQ8GHn"
      },
      "execution_count": null,
      "outputs": []
    },
    {
      "cell_type": "markdown",
      "source": [
        "\n",
        "Document created by Tomasz Legierski"
      ],
      "metadata": {
        "id": "fku0IjpUDG4H"
      }
    }
  ]
}